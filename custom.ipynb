{
 "cells": [
  {
   "cell_type": "code",
   "execution_count": 1,
   "metadata": {},
   "outputs": [
    {
     "name": "stderr",
     "output_type": "stream",
     "text": [
      "c:\\ProgramData\\miniconda3\\envs\\py310\\lib\\site-packages\\tqdm\\auto.py:21: TqdmWarning: IProgress not found. Please update jupyter and ipywidgets. See https://ipywidgets.readthedocs.io/en/stable/user_install.html\n",
      "  from .autonotebook import tqdm as notebook_tqdm\n"
     ]
    }
   ],
   "source": [
    "from custom_generator import CustomGenerator, Dataset\n",
    "\n",
    "\n",
    "params = {}\n",
    "# 配置定制化的文本\n",
    "params['text_path'] = 'xueqiu_1000.txt'\n",
    "\n",
    "# 配置模型参数\n",
    "params['model_hug_path'] = 'uer/gpt2-chinese-cluecorpussmall'\n",
    "params['max_length'] = 100\n",
    "params['batch_size'] = 8\n",
    "params['save_model_path'] = 'custom.model'\n",
    "params['generate_size'] = 100\n",
    "params['generate_times'] = 3"
   ]
  },
  {
   "cell_type": "code",
   "execution_count": 2,
   "metadata": {},
   "outputs": [
    {
     "name": "stderr",
     "output_type": "stream",
     "text": [
      "c:\\ProgramData\\miniconda3\\envs\\py310\\lib\\site-packages\\transformers\\optimization.py:306: FutureWarning: This implementation of AdamW is deprecated and will be removed in a future version. Use the PyTorch implementation torch.optim.AdamW instead, or set `no_deprecation_warning=True` to disable this warning\n",
      "  warnings.warn(\n",
      "1it [00:03,  3.82s/it]"
     ]
    },
    {
     "name": "stdout",
     "output_type": "stream",
     "text": [
      "0 9.235285758972168 4.5833333333333334e-05 0.27402135231316727\n"
     ]
    },
    {
     "name": "stderr",
     "output_type": "stream",
     "text": [
      "12it [00:06,  1.81it/s]\n"
     ]
    }
   ],
   "source": [
    "# 基于预训练模型使用定制文本finetune训练定制模型，\n",
    "cg = CustomGenerator(params)\n",
    "dataset = Dataset(params)\n",
    "cg.train(dataset[:100])"
   ]
  },
  {
   "cell_type": "code",
   "execution_count": 3,
   "metadata": {},
   "outputs": [
    {
     "name": "stdout",
     "output_type": "stream",
     "text": [
      "0 [CLS] 今 天 天 气 真 好 ！ 一 场 秋 季 赛 正 式 开 幕 ！ 今 天 天 气 温 和 良 好 ！ 【 第 一 场 比 赛 】 今 天 天 气 温 和 良 好 ！ 第 二 场 比 賽 上 一 場 比 賽 上 一 場 比 賽 還 有 一 場 比 賽 上 一 場 比 賽 上 一 場 比 賽 上 一 場 比 賽 上 一 場 比 賽 上 一 場 比 賽 上 一 場 比 賽 上 一 場 比 賽 上\n",
      "1 [CLS] 今 天 天 气 真 好 啊 ~ ~ ~ 地 球 人 的 天 堂 - - - - - - - - 最 新 消 息 ： 今 天 凌 晨 大 阪 神 道 日 子 宮 前 後 祭 司 馬 仕 爵 士 6 : 00 : 00 : 301 ； 今 天 凌 晨 大 阪 神 道 日 子 宮 第 一 天 第 二 代 皇 宫 第 一 晚 間 第 一 代 皇 宮 第 二 代 第 二 代 第 三 代 第 四 代 第 五 代\n",
      "2 [CLS] 今 天 天 气 真 好 啊 ~ 昨 天 冷 雨 天 有 点 感 動 心 思 去 買 東 西 吧 ~ 一 切 都 做 得 很 美 ~ ~ ~ 有 人 提 出 我 就 打 算 買 一 只 ~ 今 天 一 共 買 兩 只 ~ 其 中 一 只 是 來 澳 門 中 國 銀 行 中 的 最 大 行 貨 主 題 舖 位 於 澳 門 中 國 大 型 銀 行 中 的 一 傢 ~ 位 於 澳 門 中 小 型 銀\n"
     ]
    }
   ],
   "source": [
    "# 使用定制模型生成文本\n",
    "cg.generate('今天天气真好')"
   ]
  },
  {
   "cell_type": "code",
   "execution_count": null,
   "metadata": {},
   "outputs": [],
   "source": []
  }
 ],
 "metadata": {
  "kernelspec": {
   "display_name": "py310",
   "language": "python",
   "name": "python3"
  },
  "language_info": {
   "codemirror_mode": {
    "name": "ipython",
    "version": 3
   },
   "file_extension": ".py",
   "mimetype": "text/x-python",
   "name": "python",
   "nbconvert_exporter": "python",
   "pygments_lexer": "ipython3",
   "version": "3.10.9"
  },
  "orig_nbformat": 4
 },
 "nbformat": 4,
 "nbformat_minor": 2
}
